{
 "cells": [
  {
   "cell_type": "code",
   "execution_count": 5,
   "metadata": {},
   "outputs": [],
   "source": [
    "import re\n",
    "import os\n",
    "import csv\n",
    "import nltk\n",
    "from nltk.corpus import stopwords\n",
    "from nltk.tokenize import word_tokenize\n",
    "from nltk.stem import PorterStemmer\n",
    "from nltk.tokenize import RegexpTokenizer"
   ]
  },
  {
   "cell_type": "code",
   "execution_count": 14,
   "metadata": {},
   "outputs": [],
   "source": [
    "tokenizer = RegexpTokenizer(r'[a-z]+') #Change this line by removing 0-9 if we don't want numbers in the plot tokens.\n",
    "stop_words = set(stopwords.words(\"english\"))\n",
    "stemmer= PorterStemmer()"
   ]
  },
  {
   "cell_type": "code",
   "execution_count": 15,
   "metadata": {},
   "outputs": [],
   "source": [
    "\n",
    "#We create the term_id dictionary\n",
    "\n",
    "tokens_set=set()\n",
    "for i in range(1,26544):\n",
    "    with open('F://FILE_ADM_3//articles/article_' + str(i) +'.tsv', 'r', encoding=\"utf-8\") as file:\n",
    "        temp = csv.DictReader(file, delimiter = '\\t')\n",
    "        for row in temp:\n",
    "            Plot_words=tokenizer.tokenize(row[\"Plot\"].lower())\n",
    "            tokens_without_sw = [stemmer.stem(word) for word in Plot_words if word not in stop_words]\n",
    "            temp=set(tokens_without_sw)\n",
    "            \n",
    "            tokens_set=tokens_set.union(temp)"
   ]
  },
  {
   "cell_type": "code",
   "execution_count": 16,
   "metadata": {},
   "outputs": [],
   "source": [
    "#A few steps to save it in a dictionary ordered alphabetically\n",
    "\n",
    "tokens_list=list(tokens_set)\n",
    "tokens_list.sort()\n",
    "tokens_tuple=[(tokens_list[i],i) for i in range(len(tokens_list))]\n",
    "tokens_dictionary=dict((x, y) for x, y in tokens_tuple)"
   ]
  },
  {
   "cell_type": "code",
   "execution_count": 20,
   "metadata": {},
   "outputs": [
    {
     "data": {
      "text/plain": [
       "55037"
      ]
     },
     "execution_count": 20,
     "metadata": {},
     "output_type": "execute_result"
    }
   ],
   "source": [
    "len(tokens_dictionary)"
   ]
  },
  {
   "cell_type": "code",
   "execution_count": 18,
   "metadata": {},
   "outputs": [],
   "source": [
    "import pickle\n",
    "\n",
    "\n",
    "with open('vocabulary.pickle', 'wb') as handle:\n",
    "    pickle.dump(tokens_dictionary, handle)"
   ]
  },
  {
   "cell_type": "code",
   "execution_count": null,
   "metadata": {},
   "outputs": [],
   "source": []
  }
 ],
 "metadata": {
  "kernelspec": {
   "display_name": "Python 3",
   "language": "python",
   "name": "python3"
  },
  "language_info": {
   "codemirror_mode": {
    "name": "ipython",
    "version": 3
   },
   "file_extension": ".py",
   "mimetype": "text/x-python",
   "name": "python",
   "nbconvert_exporter": "python",
   "pygments_lexer": "ipython3",
   "version": "3.8.3"
  }
 },
 "nbformat": 4,
 "nbformat_minor": 4
}
