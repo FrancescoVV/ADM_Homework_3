{
 "cells": [
  {
   "cell_type": "code",
   "execution_count": 1,
   "metadata": {},
   "outputs": [],
   "source": [
    "import re\n",
    "import os\n",
    "import csv\n",
    "import nltk\n",
    "import pickle\n",
    "import numpy as np\n",
    "from nltk.corpus import stopwords\n",
    "from nltk.tokenize import word_tokenize\n",
    "from nltk.stem import PorterStemmer\n",
    "from nltk.tokenize import RegexpTokenizer\n",
    "from collections import Counter\n",
    "\n",
    "N_doc=26543"
   ]
  },
  {
   "cell_type": "code",
   "execution_count": 2,
   "metadata": {},
   "outputs": [],
   "source": [
    "tokenizer = RegexpTokenizer(r'[a-z]+') #Change this line by removing 0-9 if we don't want numbers in the plot tokens.\n",
    "stop_words = set(stopwords.words(\"english\"))\n",
    "stemmer= PorterStemmer()"
   ]
  },
  {
   "cell_type": "code",
   "execution_count": 5,
   "metadata": {},
   "outputs": [],
   "source": [
    "#We create the term_id dictionary\n",
    "\n",
    "tokens_set=set()\n",
    "for i in range(1,26544):\n",
    "    with open('F://FILE_ADM_3//articles/article_' + str(i) +'.tsv', 'r', encoding=\"utf-8\") as file:\n",
    "        temp = csv.DictReader(file, delimiter = '\\t')\n",
    "        for row in temp:\n",
    "            #tokenizing the plot, making everything lowercase and removing unwanted characters\n",
    "            Plot_words=tokenizer.tokenize(row[\"Plot\"].lower())\n",
    "            tokens_without_sw = [stemmer.stem(word) for word in Plot_words if word not in stop_words]\n",
    "            temp=set(tokens_without_sw)\n",
    "            \n",
    "            tokens_set=tokens_set.union(temp)"
   ]
  },
  {
   "cell_type": "code",
   "execution_count": 16,
   "metadata": {},
   "outputs": [],
   "source": [
    "#A few steps to save it in a dictionary ordered alphabetically\n",
    "\n",
    "tokens_list=list(tokens_set)\n",
    "tokens_list.sort()\n",
    "tokens_tuple=[(tokens_list[i],i) for i in range(len(tokens_list))]\n",
    "tokens_dictionary=dict((x, y) for x, y in tokens_tuple)"
   ]
  },
  {
   "cell_type": "code",
   "execution_count": 20,
   "metadata": {},
   "outputs": [
    {
     "data": {
      "text/plain": [
       "55037"
      ]
     },
     "execution_count": 20,
     "metadata": {},
     "output_type": "execute_result"
    }
   ],
   "source": [
    "len(tokens_dictionary)"
   ]
  },
  {
   "cell_type": "markdown",
   "metadata": {},
   "source": [
    "#### Storing a file as a pkl file\n",
    "```with open('vocabulary.pkl', 'wb') as handle:\n",
    "    pickle.dump(tokens_dictionary, handle)```"
   ]
  },
  {
   "cell_type": "code",
   "execution_count": 8,
   "metadata": {},
   "outputs": [],
   "source": [
    "#loading a pkl file\n",
    "with open('vocabulary.pkl', 'rb') as handle:\n",
    "    vocabulary = pickle.load(handle)"
   ]
  },
  {
   "cell_type": "code",
   "execution_count": 11,
   "metadata": {},
   "outputs": [],
   "source": [
    "#Creating the first inverted index\n",
    "\n",
    "#We're using the vocabulary without the numbers.\n"
   ]
  },
  {
   "cell_type": "code",
   "execution_count": 6,
   "metadata": {},
   "outputs": [],
   "source": [
    "#Initializing the inverted index\n",
    "inverted_index={}\n",
    "for i in range(len(vocabulary)):\n",
    "    inverted_index[i]=[]\n",
    "\n",
    "for j in range(1,26544):\n",
    "        with open('F://FILE_ADM_3//articles/article_' + str(j) +'.tsv', 'r', encoding=\"utf-8\") as file:\n",
    "            temp = csv.DictReader(file, delimiter = '\\t')\n",
    "            for row in temp:\n",
    "                #tokenizing the plot, making everything lowercase and removing unwanted characters\n",
    "                Plot_words=tokenizer.tokenize(row[\"Plot\"].lower())\n",
    "                tokens_without_sw = [stemmer.stem(word) for word in Plot_words if word not in stop_words]\n",
    "                \n",
    "                for word in tokens_without_sw:\n",
    "                    inverted_index[vocabulary[word]].append(j)\n",
    "\n",
    "for i in range(len(inverted_index)):\n",
    "    inverted_index[i]=set(inverted_index[i])\n",
    "    "
   ]
  },
  {
   "cell_type": "markdown",
   "metadata": {},
   "source": [
    "#### Storing a file as a pkl file\n",
    "```with open('inverted_index_1.pkl', 'wb') as handle:\n",
    "    pickle.dump(inverted_index, handle)```"
   ]
  },
  {
   "cell_type": "code",
   "execution_count": 10,
   "metadata": {},
   "outputs": [],
   "source": [
    "#loading a pkl file\n",
    "with open('inverted_index_1.pkl', 'rb') as handle:\n",
    "    inverted_index = pickle.load(handle)"
   ]
  },
  {
   "cell_type": "code",
   "execution_count": 125,
   "metadata": {},
   "outputs": [
    {
     "name": "stdout",
     "output_type": "stream",
     "text": [
      "dfghjk,\n",
      "Stem dfghjk not found. It will be ignored.\n"
     ]
    }
   ],
   "source": [
    "#Need to consider edge cases here when doing this in the main file\n",
    "query = input()\n",
    "query = tokenizer.tokenize(query.lower())\n",
    "query_stems = [stemmer.stem(word) for word in query if word not in stop_words]\n",
    "\n",
    "query_stem_test=query_stems\n",
    "query_stems=[]\n",
    "\n",
    "#Checking if input stems exists in the vocabulary\n",
    "\n",
    "for word in query_stem_test:\n",
    "    try:\n",
    "        vocabulary[word]\n",
    "        query_stems.append(word)\n",
    "    except KeyError:\n",
    "        print(\"Stem\",word,\"not found. It will be ignored.\")\n",
    "temp=set()\n",
    "\n",
    "#\n",
    "\n",
    "if len(query_stems)>0:\n",
    "    temp=inverted_index[vocabulary[query_stems[0]]]\n",
    "    for stem in query_stems:\n",
    "        temp=temp.intersection(inverted_index[vocabulary[stem]])\n",
    "\n",
    "to_print=list(sorted(temp))\n",
    "\n",
    "for i in to_print:\n",
    "    with open('F://FILE_ADM_3//articles/article_' + str(i) +'.tsv', 'r', encoding=\"utf-8\") as file:\n",
    "            temp = csv.DictReader(file, delimiter = '\\t')\n",
    "            for row in temp:\n",
    "                print(\"BookTitle:\",row[\"bookTitle\"])\n",
    "                print(\"Plot:\")\n",
    "                print(row[\"Plot\"])\n",
    "                print(\"Url:\",row[\"Url\"])\n",
    "                print()"
   ]
  },
  {
   "cell_type": "code",
   "execution_count": 60,
   "metadata": {},
   "outputs": [],
   "source": [
    "#Initializing the inverted index with repetitions\n",
    "inverted_index2={}\n",
    "for i in range(len(vocabulary)):\n",
    "    inverted_index2[i]=[]\n",
    "\n",
    "for j in range(1,26544):\n",
    "        with open('F://FILE_ADM_3//articles/article_' + str(j) +'.tsv', 'r', encoding=\"utf-8\") as file:\n",
    "            temp = csv.DictReader(file, delimiter = '\\t')\n",
    "            for row in temp:\n",
    "                #tokenizing the plot, making everything lowercase and removing unwanted characters\n",
    "                Plot_words=tokenizer.tokenize(row[\"Plot\"].lower())\n",
    "                tokens_without_sw = [stemmer.stem(word) for word in Plot_words if word not in stop_words]\n",
    "                \n",
    "                for word in tokens_without_sw:\n",
    "                    inverted_index2[vocabulary[word]].append(j)\n"
   ]
  },
  {
   "cell_type": "code",
   "execution_count": 74,
   "metadata": {},
   "outputs": [],
   "source": [
    "#We create the term_id dictionary\n",
    "\n",
    "vocabulary2={}\n",
    "for i in range(1,26544):\n",
    "    with open('F://FILE_ADM_3//articles/article_' + str(i) +'.tsv', 'r', encoding=\"utf-8\") as file:\n",
    "        temp = csv.DictReader(file, delimiter = '\\t')\n",
    "        for row in temp:\n",
    "            #tokenizing the plot, making everything lowercase and removing unwanted characters\n",
    "            Plot_words=tokenizer.tokenize(row[\"Plot\"].lower())\n",
    "            tokens_without_sw = [stemmer.stem(word) for word in Plot_words if word not in stop_words]\n",
    "            temp=set(tokens_without_sw)\n",
    "            for word in temp:\n",
    "                if vocabulary[word] in vocabulary2:\n",
    "                    vocabulary2[vocabulary[word]]+=1\n",
    "                else:\n",
    "                    vocabulary2[vocabulary[word]]=1"
   ]
  },
  {
   "cell_type": "code",
   "execution_count": 5,
   "metadata": {},
   "outputs": [],
   "source": [
    "length_documents={}\n",
    "for j in range(1,26544):\n",
    "        with open('F://FILE_ADM_3//articles/article_' + str(j) +'.tsv', 'r', encoding=\"utf-8\") as file:\n",
    "            temp = csv.DictReader(file, delimiter = '\\t')\n",
    "            for row in temp:\n",
    "                #tokenizing the plot, making everything lowercase and removing unwanted characters\n",
    "                Plot_words=tokenizer.tokenize(row[\"Plot\"].lower())\n",
    "                tokens_without_sw = [stemmer.stem(word) for word in Plot_words if word not in stop_words]\n",
    "                \n",
    "                length_documents[j]=len(tokens_without_sw)"
   ]
  },
  {
   "cell_type": "code",
   "execution_count": 62,
   "metadata": {},
   "outputs": [],
   "source": [
    "tfIdf_index={}\n",
    "for key,value in inverted_index2.items():\n",
    "    tfIdf_index[key]=[]\n",
    "    n_ij=dict(Counter(value))\n",
    "    \n",
    "    for element in n_ij:\n",
    "        \n",
    "        tf=n_ij[element]/length_documents[element]\n",
    "        \n",
    "        Idf=np.log(N_doc/vocabulary2[key])\n",
    "        \n",
    "        tfIdf_index[key].append((element,tf*Idf))"
   ]
  },
  {
   "cell_type": "markdown",
   "metadata": {},
   "source": [
    "# New structure here"
   ]
  },
  {
   "cell_type": "code",
   "execution_count": 21,
   "metadata": {},
   "outputs": [],
   "source": [
    "#We create the new index for the second search engine\n",
    "\n",
    "BookTokens={}\n",
    "for i in range(1,N_doc+1):\n",
    "    with open('F://FILE_ADM_3//articles/article_' + str(i) +'.tsv', 'r', encoding=\"utf-8\") as file:\n",
    "        temp = csv.DictReader(file, delimiter = '\\t')\n",
    "        for row in temp:\n",
    "            #tokenizing the plot, making everything lowercase and removing unwanted characters\n",
    "            Plot_words=tokenizer.tokenize(row[\"Plot\"].lower())\n",
    "            tokens_without_sw = [stemmer.stem(word) for word in Plot_words if word not in stop_words]\n",
    "            #temp=set(tokens_without_sw)\n",
    "            BookTokens[i]=[]\n",
    "            n_ij=dict(Counter(tokens_without_sw))\n",
    "            for word in tokens_without_sw:\n",
    "                tf=n_ij[word]/length_documents[i]\n",
    "                Idf=np.log(N_doc/vocabulary2[vocabulary[word]])\n",
    "                BookTokens[i].append((vocabulary[word],tf*Idf))\n",
    "                BookTokens[i]=list(set(BookTokens[i]))\n",
    "                BookTokens[i].sort()"
   ]
  },
  {
   "cell_type": "code",
   "execution_count": 12,
   "metadata": {},
   "outputs": [],
   "source": [
    "#loading a pkl file\n",
    "with open('vocabulary.pkl', 'rb') as handle:\n",
    "    vocabulary = pickle.load(handle)"
   ]
  },
  {
   "cell_type": "code",
   "execution_count": 8,
   "metadata": {},
   "outputs": [],
   "source": [
    "#loading a pkl file\n",
    "with open('tfIdf_index.pkl', 'rb') as handle:\n",
    "    tfIdf_index = pickle.load(handle)"
   ]
  },
  {
   "cell_type": "code",
   "execution_count": null,
   "metadata": {},
   "outputs": [],
   "source": []
  }
 ],
 "metadata": {
  "kernelspec": {
   "display_name": "Python 3",
   "language": "python",
   "name": "python3"
  },
  "language_info": {
   "codemirror_mode": {
    "name": "ipython",
    "version": 3
   },
   "file_extension": ".py",
   "mimetype": "text/x-python",
   "name": "python",
   "nbconvert_exporter": "python",
   "pygments_lexer": "ipython3",
   "version": "3.8.3"
  }
 },
 "nbformat": 4,
 "nbformat_minor": 4
}
