{
 "cells": [
  {
   "cell_type": "code",
   "execution_count": 6,
   "metadata": {},
   "outputs": [],
   "source": [
    "from bs4 import BeautifulSoup\n",
    "import requests\n",
    "import time\n",
    "import os"
   ]
  },
  {
   "cell_type": "code",
   "execution_count": 8,
   "metadata": {},
   "outputs": [
    {
     "name": "stdout",
     "output_type": "stream",
     "text": [
      "Pagina 154 finita\n"
     ]
    }
   ],
   "source": [
    "s=requests.Session()\n",
    "for i in range(1,301):\n",
    "    file= \"G:\\ADM3\\\\\" +str(i)+\"\\\\\"+\"links.txt\"\n",
    "    f=open(file,encoding=\"utf-8\")\n",
    "    lines=f.readlines()\n",
    "    j=1\n",
    "    for url in lines:\n",
    "        cnt = requests.get(url)\n",
    "        soup = BeautifulSoup(cnt.content, features=\"html.parser\")\n",
    "        name=\"G:\\ADM3\\\\\"+str(i)+\"\\\\\"+str(j)+\".html\"\n",
    "        f = open(name, \"w\",encoding=\"utf-8\")\n",
    "        f.write(soup.prettify())\n",
    "        f.close()\n",
    "        j+=1\n",
    "    print(\"Pagina \"+str(i)+\" finita\")"
   ]
  },
  {
   "cell_type": "code",
   "execution_count": null,
   "metadata": {},
   "outputs": [],
   "source": []
  }
 ],
 "metadata": {
  "kernelspec": {
   "display_name": "Python 3",
   "language": "python",
   "name": "python3"
  },
  "language_info": {
   "codemirror_mode": {
    "name": "ipython",
    "version": 3
   },
   "file_extension": ".py",
   "mimetype": "text/x-python",
   "name": "python",
   "nbconvert_exporter": "python",
   "pygments_lexer": "ipython3",
   "version": "3.8.3"
  }
 },
 "nbformat": 4,
 "nbformat_minor": 4
}
