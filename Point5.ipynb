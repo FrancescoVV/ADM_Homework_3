{
 "cells": [
  {
   "cell_type": "markdown",
   "metadata": {},
   "source": [
    "### Question 5\n",
    "You are given a string written in english capital letters, for example S=\"CADFECEILGJHABNOPSTIRYOEABILCNR.\" You are asked to find the maximum length of a subsequence of characters that\n",
    "is in alphabetical order. Among all the possible such sequences, you are asked to find the one that is the longest."
   ]
  },
  {
   "cell_type": "markdown",
   "metadata": {},
   "source": [
    "#### Point 5.1\n",
    "Write a recursive program that, given a string, computes the length of the subsequence of maximum length that is in alphabetical order. Try some examples. Are the examples of short strings correct?"
   ]
  },
  {
   "cell_type": "code",
   "execution_count": 1,
   "metadata": {},
   "outputs": [],
   "source": [
    "def recursive_lcs(X,Y,m,n):\n",
    "    if m == 0 or n == 0: #if the two strings have length =0, then the LCS is 0\n",
    "        return 0\n",
    "    #otherwise we call recursivly the function to generate all subsequences of the given strings and to find the longest common subsequence\n",
    "    elif X[m-1] == Y[n-1]:\n",
    "        return 1 + recursive_lcs(X,Y,m-1,n-1)\n",
    "    else:\n",
    "        return max(recursive_lcs(X,Y,m,n-1), recursive_lcs(X,Y,m-1,n))\n",
    "    \n",
    "def length_lcs(str):\n",
    "    X = str.upper() #convert the given string into uppercase\n",
    "    Y=\"ABCDEFGHIJKLMNOPQRSTUVXYZ\"\n",
    "    m = len(X)\n",
    "    n = len(Y)\n",
    "    lcs = recursive_lcs(X,Y,m,n)\n",
    "    return (lcs)"
   ]
  },
  {
   "cell_type": "markdown",
   "metadata": {},
   "source": [
    "Provide a string in input and the function will find the lcs"
   ]
  },
  {
   "cell_type": "code",
   "execution_count": 2,
   "metadata": {},
   "outputs": [
    {
     "name": "stdout",
     "output_type": "stream",
     "text": [
      "fsisgh\n",
      "LCS:  3\n"
     ]
    }
   ],
   "source": [
    "s = str(input())\n",
    "string = ''.join(filter(str.isalpha, s))\n",
    "print(\"LCS: \", length_lcs(string))"
   ]
  },
  {
   "cell_type": "markdown",
   "metadata": {},
   "source": [
    "#### Point 5.2\n",
    "\n",
    "Show that the running time of the algorithm is exponential.\n",
    "\n",
    "\n",
    "*A string whose length is n, has $2^n-1$ different possible subsequences, without considering the subsequence with length 0.\n",
    "So the time complexity of the longest common subsequence with a recursive approach is $O(n 2^n)$. \n",
    "We need $O(n)$ time to check if a subsequence is common to both the strings. The algorithm will take $O(2^n)$ in worst case that happens when all characters of the two provived strings mismatch and so the length of LCS is 0.*"
   ]
  },
  {
   "cell_type": "markdown",
   "metadata": {},
   "source": [
    "#### Point 5.3\n",
    "Write a program that computes the length of the subsequence of maximum length, using dynamic programming."
   ]
  },
  {
   "cell_type": "markdown",
   "metadata": {},
   "source": [
    "Finding the longest common subsequence between two strings is a maximization problem, and so we can apply the dynamic programming. According to this method we can use a support structure in which save the length of the subproblems.\n",
    "This structure is the *look up table*. The element in position $[i][j]$ is the LCS of X(i) and Y(j). \\\n",
    "We iterate for the length of X, and for the length of Y; if the i-th element of X is 0, or the j-th element of Y is 0, the element in position $[i][j]$ is 0 as well. \\\n",
    "If the i-th element of X is equal to the j-th element of Y, the element in position $[i][j]=[i-1][j-1]+1$.\\\n",
    "The $+1$ at the end is because the last symbol is equal (thinking about the look up table, we are moving according to the diagonal and increase of 1).\\\n",
    "Otherwise, we chose the maximum value between the previus element in horizontal and the previus one in vertical.\\\n",
    "At the end we return the look_up_table[m][n] that contains the length of the longest common subsequence of $X[0,m-1]$ and $Y[0,n-1]$."
   ]
  },
  {
   "cell_type": "code",
   "execution_count": null,
   "metadata": {},
   "outputs": [],
   "source": [
    "def memoization_lcs(X,Y):\n",
    "    m = len(X)\n",
    "    n = len(Y)\n",
    "    look_up_table = [[None] * (n+1) for i in range(m+1)]\n",
    "    for i in range(m + 1): \n",
    "        for j in range(n + 1):\n",
    "            if i == 0 or j == 0: \n",
    "                look_up_table[i][j] = 0 \n",
    "            elif X[i-1] == Y[j-1]: \n",
    "                look_up_table[i][j] = look_up_table[i-1][j-1] + 1 \n",
    "            else: \n",
    "                look_up_table[i][j] = max(look_up_table[i-1][j], look_up_table[i][j-1])\n",
    "    return look_up_table[m][n] \n",
    "\n",
    "def length_lcs(str):\n",
    "    #X= \"CADFECEILGJHABNOPSTIRYOEABILCNR\"\n",
    "    X = str.upper() #convert the given string into uppercase\n",
    "    Y=\"ABCDEFGHIJKLMNOPQRSTUVXYZ\"\n",
    "    lcs = memoization_lcs(X,Y)\n",
    "    return (lcs)"
   ]
  },
  {
   "cell_type": "markdown",
   "metadata": {},
   "source": [
    "Provide a string in input and the function will find the lcs"
   ]
  },
  {
   "cell_type": "code",
   "execution_count": null,
   "metadata": {},
   "outputs": [],
   "source": [
    "s = str(input())\n",
    "string = ''.join(filter(str.isalpha, s))\n",
    "print(\"LCS: \", length_lcs(string))"
   ]
  },
  {
   "cell_type": "markdown",
   "metadata": {},
   "source": [
    "#### Point 5.4\n",
    "What is its runtime complexity?\n",
    "\n",
    "*The run time complexity of this algorithm using the dynamic programmig is given by the dimension of the look up table because it also provide us the information about the space complexity of the subproblems. \\\n",
    "The dimension of the table is $n*m$ where the $m=len(X)$ and $n=len(Y)$. So the runtime complexity is $O(mn)$, since for computing each position in the table we need* $O(1)$."
   ]
  },
  {
   "cell_type": "code",
   "execution_count": null,
   "metadata": {},
   "outputs": [],
   "source": []
  }
 ],
 "metadata": {
  "kernelspec": {
   "display_name": "Python 3",
   "language": "python",
   "name": "python3"
  },
  "language_info": {
   "codemirror_mode": {
    "name": "ipython",
    "version": 3
   },
   "file_extension": ".py",
   "mimetype": "text/x-python",
   "name": "python",
   "nbconvert_exporter": "python",
   "pygments_lexer": "ipython3",
   "version": "3.8.3"
  }
 },
 "nbformat": 4,
 "nbformat_minor": 4
}
