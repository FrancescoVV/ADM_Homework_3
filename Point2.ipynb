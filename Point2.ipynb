{
 "cells": [
  {
   "cell_type": "code",
   "execution_count": 2,
   "metadata": {},
   "outputs": [
    {
     "name": "stderr",
     "output_type": "stream",
     "text": [
      "[nltk_data] Downloading package stopwords to\n",
      "[nltk_data]     /Users/domenicospoto/nltk_data...\n",
      "[nltk_data]   Package stopwords is already up-to-date!\n",
      "[nltk_data] Downloading package punkt to\n",
      "[nltk_data]     /Users/domenicospoto/nltk_data...\n",
      "[nltk_data]   Package punkt is already up-to-date!\n"
     ]
    },
    {
     "data": {
      "text/plain": [
       "True"
      ]
     },
     "execution_count": 2,
     "metadata": {},
     "output_type": "execute_result"
    }
   ],
   "source": [
    "from bs4 import BeautifulSoup\n",
    "import re\n",
    "import os\n",
    "import csv\n",
    "import nltk\n",
    "from nltk.corpus import stopwords\n",
    "from nltk.tokenize import word_tokenize\n",
    "from nltk.stem import PorterStemmer\n",
    "nltk.download('stopwords')\n",
    "nltk.download(\"punkt\")"
   ]
  },
  {
   "cell_type": "code",
   "execution_count": 3,
   "metadata": {},
   "outputs": [],
   "source": [
    "def print_list(l):\n",
    "    lenght=len(l)\n",
    "    if lenght==0:\n",
    "        return \"\"\n",
    "    if lenght==1:\n",
    "        return l[0]\n",
    "    to_print=\"\"\n",
    "    if lenght>1:\n",
    "        for i in range(lenght-1):\n",
    "            to_print+=l[i]+\", \"\n",
    "        to_print+=l[lenght-1]\n",
    "    return to_print"
   ]
  },
  {
   "cell_type": "code",
   "execution_count": null,
   "metadata": {},
   "outputs": [],
   "source": [
    "functions=[bookTitle,bookSeries,bookAuthors,ratingValue,ratingCount,reviewCount,Plot,NumberOfPages,Publishing_Date,\\\n",
    "           Characters,Setting,Url]\n",
    "for fun in functions[]:\n",
    "    row[fun.name()]"
   ]
  },
  {
   "cell_type": "code",
   "execution_count": 13,
   "metadata": {},
   "outputs": [
    {
     "name": "stdout",
     "output_type": "stream",
     "text": [
      "['Could', 'survive', 'wild', ',', 'every', 'make', 'sure', \"n't\", 'live', 'see', 'morning', '?', 'In', 'ruins', 'place', 'known', 'North', 'America', 'lies', 'nation', 'Panem', ',', 'shining', 'Capitol', 'surrounded', 'twelve', 'outlying', 'districts', '.', 'The', 'Capitol', 'harsh', 'cruel', 'keeps', 'districts', 'line', 'forcing', 'send', 'boy', 'girl', 'ages', 'twelve', 'eighteen', 'participate', 'annual', 'Hunger', 'Games', ',', 'fight', 'death', 'live', 'TV', '.', 'Sixteen-year-old', 'Katniss', 'Everdeen', ',', 'lives', 'alone', 'mother', 'younger', 'sister', ',', 'regards', 'death', 'sentence', 'steps', 'forward', 'sister', \"'s\", 'place', 'Games', '.', 'But', 'Katniss', 'close', 'dead', 'before—and', 'survival', ',', ',', 'second', 'nature', '.', 'Without', 'really', 'meaning', ',', 'becomes', 'contender', '.', 'But', 'win', ',', 'start', 'making', 'choices', 'weight', 'survival', 'humanity', 'life', 'love', '.']\n"
     ]
    }
   ],
   "source": [
    "for i in range(1,2):\n",
    "    with open('articles/articles_' + str(i) +'.tsv', 'r', encoding=\"utf-8\") as file:\n",
    "        temp = csv.DictReader(file, delimiter = '\\t')\n",
    "        for row in temp:\n",
    "            text_tokens = word_tokenize(row['Plot'])\n",
    "            tokens_without_sw = [word for word in text_tokens if not word in stopwords.words()]\n",
    "            #print(print_list(new_words))\n",
    "            print(tokens_without_sw)"
   ]
  },
  {
   "cell_type": "code",
   "execution_count": 38,
   "metadata": {},
   "outputs": [
    {
     "name": "stdout",
     "output_type": "stream",
     "text": [
      "Could you survive on your own in the wild, with every one out to make sure you don't live to see the morning? In the ruins of a place once known as North America lies the nation of Panem, a shining Capitol surrounded by twelve outlying districts. The Capitol is harsh and cruel and keeps the districts in line by forcing them all to send one boy and one girl between the ages of twelve and eighteen to participate in the annual Hunger Games, a fight to the death on live TV. Sixteen-year-old Katniss Everdeen, who lives alone with her mother and younger sister, regards it as a death sentence when she steps forward to take her sister's place in the Games. But Katniss has been close to dead before—and survival, for her, is second nature. Without really meaning to, she becomes a contender. But if she is to win, she will have to start making choices that weight survival against humanity and life against love.\n",
      "\n",
      "Could, you, survive, on, your, own, in, the, wild, with, every, one, out, to, make, sure, you, do, live, to, see, the, morning, In, the, ruins, of, a, place, once, known, as, North, America, lies, the, nation, of, Panem, a, shining, Capitol, surrounded, by, twelve, outlying, districts, The, Capitol, is, harsh, and, cruel, and, keeps, the, districts, in, line, by, forcing, them, all, to, send, one, boy, and, one, girl, between, the, ages, of, twelve, and, eighteen, to, participate, in, the, annual, Hunger, Games, a, fight, to, the, death, on, live, TV, Katniss, Everdeen, who, lives, alone, with, her, mother, and, younger, sister, regards, it, as, a, death, sentence, when, she, steps, forward, to, take, her, sister, place, in, the, Games, But, Katniss, has, been, close, to, dead, survival, for, her, is, second, nature, Without, really, meaning, to, she, becomes, a, contender, But, if, she, is, to, win, she, will, have, to, start, making, choices, that, weight, survival, against, humanity, and, life, against, love\n"
     ]
    }
   ],
   "source": [
    "for i in range(1,2):\n",
    "    with open('articles/articles_' + str(i) +'.tsv', 'r', encoding=\"utf-8\") as file:\n",
    "        temp = csv.DictReader(file, delimiter = '\\t')\n",
    "        for row in temp:\n",
    "            #print(row['Plot'], end='\\n\\n')\n",
    "            words = word_tokenize(row['Plot'])\n",
    "            new_words = [word for word in words if word.isalnum()] #is a list\n",
    "            print(print_list(new_words))\n",
    "            "
   ]
  },
  {
   "cell_type": "code",
   "execution_count": 4,
   "metadata": {},
   "outputs": [
    {
     "name": "stdout",
     "output_type": "stream",
     "text": [
      "[\"could you survive on your own in the wild, with every one out to make sure you don't live to see the morning? in the ruins of a place once known as north america lies the nation of panem, a shining capitol surrounded by twelve outlying districts. the capitol is harsh and cruel and keeps the districts in line by forcing them all to send one boy and one girl between the ages of twelve and eighteen to participate in the annual hunger games, a fight to the death on live tv. sixteen-year-old katniss everdeen, who lives alone with her mother and younger sister, regards it as a death sentence when she steps forward to take her sister's place in the games. but katniss has been close to dead before—and survival, for her, is second nature. without really meaning to, she becomes a contender. but if she is to win, she will have to start making choices that weight survival against humanity and life against love.\"]\n"
     ]
    }
   ],
   "source": [
    "porter = PorterStemmer()\n",
    "for i in range(1,2):\n",
    "    with open('articles/articles_' + str(i) +'.tsv', 'r', encoding=\"utf-8\") as file:\n",
    "        temp = csv.DictReader(file, delimiter = '\\t')\n",
    "        for row in temp:\n",
    "            word_list = []\n",
    "\n",
    "            word_list.append(porter.stem(row['Plot']))\n",
    "            print(word_list)\n",
    "                "
   ]
  },
  {
   "cell_type": "code",
   "execution_count": 11,
   "metadata": {},
   "outputs": [
    {
     "name": "stdout",
     "output_type": "stream",
     "text": [
      "['This', 'is', 'a', 'sample', 'sentence', ',', 'showing', 'off', 'the', 'stop', 'words', 'filtration', '.']\n",
      "['This', 'sample', 'sentence', ',', 'showing', 'stop', 'words', 'filtration', '.']\n"
     ]
    }
   ],
   "source": [
    "example_sent = \"\"\"This is a sample sentence, \n",
    "                  showing off the stop words filtration.\"\"\"\n",
    "  \n",
    "stop_words = set(stopwords.words('english'))  \n",
    "\n",
    "word_tokens = word_tokenize(example_sent)  \n",
    "\n",
    "filtered_sentence = [w for w in word_tokens if not w in stop_words]  \n",
    "\n",
    "filtered_sentence = []  \n",
    "  \n",
    "for w in word_tokens:  \n",
    "    if w not in stop_words:  \n",
    "        filtered_sentence.append(w)  \n",
    "  \n",
    "print(word_tokens)  \n",
    "print(filtered_sentence)  "
   ]
  },
  {
   "cell_type": "code",
   "execution_count": null,
   "metadata": {},
   "outputs": [],
   "source": []
  }
 ],
 "metadata": {
  "kernelspec": {
   "display_name": "Python 3.7.4 64-bit ('algotrading': conda)",
   "language": "python",
   "name": "python37464bitalgotradingconda745421058edb4475bcdf684bffb17224"
  },
  "language_info": {
   "codemirror_mode": {
    "name": "ipython",
    "version": 3
   },
   "file_extension": ".py",
   "mimetype": "text/x-python",
   "name": "python",
   "nbconvert_exporter": "python",
   "pygments_lexer": "ipython3",
   "version": "3.7.7"
  }
 },
 "nbformat": 4,
 "nbformat_minor": 4
}
